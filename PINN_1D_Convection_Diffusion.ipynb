{
 "cells": [
  {
   "cell_type": "markdown",
   "id": "42a4f25c",
   "metadata": {},
   "source": [
    "## Initialisation"
   ]
  },
  {
   "cell_type": "code",
   "execution_count": null,
   "id": "43017ac0-3427-43f5-9b67-1d44d89a95b8",
   "metadata": {},
   "outputs": [],
   "source": [
    "import os\n",
    "import deepxde as dde\n",
    "import numpy as np\n",
    "import matplotlib.pyplot as plt\n",
    "import imageio"
   ]
  },
  {
   "cell_type": "markdown",
   "id": "a46ab864",
   "metadata": {},
   "source": [
    "## Data-Free Hard-constraint Physics-Informed Neural Network (PINN)"
   ]
  },
  {
   "cell_type": "markdown",
   "id": "10999fa4",
   "metadata": {},
   "source": [
    "### Create directory"
   ]
  },
  {
   "cell_type": "code",
   "execution_count": 2,
   "id": "2c949465-c118-481e-b8ff-51258760c4d9",
   "metadata": {},
   "outputs": [],
   "source": [
    "os.makedirs(\"training_outputs\", exist_ok=True)"
   ]
  },
  {
   "cell_type": "markdown",
   "id": "757115d3",
   "metadata": {},
   "source": [
    "### Analytical Solution"
   ]
  },
  {
   "cell_type": "code",
   "execution_count": null,
   "id": "d617e085",
   "metadata": {},
   "outputs": [],
   "source": [
    "length = 1\n",
    "T_hot = 100\n",
    "T_cold = 20\n",
    "diff_coeff = 1\n",
    "density = 1\n",
    "u = 10\n",
    "\n",
    "def func(x):\n",
    "  return T_hot + (np.exp(density * u * x / diff_coeff)-1) / (np.exp(density * u * length / diff_coeff)-1) * (T_cold - T_hot)\n"
   ]
  },
  {
   "cell_type": "markdown",
   "id": "e8237087",
   "metadata": {},
   "source": [
    "### Plot and gif functions"
   ]
  },
  {
   "cell_type": "code",
   "execution_count": null,
   "id": "d6c5ab69",
   "metadata": {},
   "outputs": [],
   "source": [
    "def plot_and_save(step, model):\n",
    "    # Predict the solution\n",
    "    y_pred = model.predict(x)\n",
    "    y_true = func(x)\n",
    "\n",
    "    # Create the plot\n",
    "    plt.figure(figsize=(8, 5))\n",
    "    plt.grid(True, which='both', linestyle='--', linewidth=0.5)\n",
    "    plt.gca().set_facecolor('#f0f0f0')\n",
    "    plt.plot(x, y_true,'-x',color='#22223B',alpha=0.7,markersize=5, label='Analytical Solution')\n",
    "    plt.plot(x, y_pred,'--',color='#D36135', label='PINN Prediction')\n",
    "    plt.title(f'Solution at step {step}',fontsize=14,fontweight='bold',color='#22223B')\n",
    "    plt.xlabel('x')\n",
    "    plt.ylabel('Temperature')\n",
    "    plt.legend(loc='lower left',fontsize=12,frameon=True,shadow=True,facecolor='white')\n",
    "\n",
    "    # Save the plot\n",
    "    plt.savefig(f\"training_outputs/step_{step:06d}.png\")\n",
    "    plt.close()\n",
    "    \n",
    "def create_gif(image_folder, gif_name):\n",
    "    images = []\n",
    "    for file_name in sorted(os.listdir(image_folder)):\n",
    "        if file_name.endswith('.png'):\n",
    "            file_path = os.path.join(image_folder, file_name)\n",
    "            images.append(imageio.imread(file_path))\n",
    "    imageio.mimsave(gif_name, images, fps=20)"
   ]
  },
  {
   "cell_type": "markdown",
   "id": "7554df25",
   "metadata": {},
   "source": [
    "### Set up PINN"
   ]
  },
  {
   "cell_type": "code",
   "execution_count": null,
   "id": "e818e0c4-b497-4f7e-b914-5d5b5018df07",
   "metadata": {},
   "outputs": [],
   "source": [
    "\n",
    "geom = dde.geometry.Interval(0,length)\n",
    "\n",
    "def pde(x,y):\n",
    "  dy_dx = dde.grad.jacobian(y,x)\n",
    "  d2y_dx2 = dde.grad.hessian(y,x)\n",
    "\n",
    "  return density * u * dy_dx - diff_coeff * d2y_dx2\n",
    "\n",
    "\n",
    "\n",
    "# What works: uniform distribution\n",
    "data = dde.data.PDE(geom,\n",
    "                    pde,\n",
    "                    [],\n",
    "                    num_domain=100, \n",
    "                    solution=func,\n",
    "                    num_test=100,\n",
    "                    train_distribution='uniform')\n",
    "\n",
    "layer_size = [1] + [50] * 3 + [1]\n",
    "activation = \"tanh\"\n",
    "initializer = \"Glorot uniform\"\n",
    "net = dde.nn.FNN(layer_size, activation,initializer)\n",
    "\n",
    "def output_transform(x, y):\n",
    "    return T_hot + (T_cold - T_hot) * x / length + x * (x - length) * y\n",
    "\n",
    "net.apply_output_transform(output_transform)\n",
    "\n",
    "\n",
    "\n",
    "# Generate points for prediction\n",
    "x = np.linspace(0, length, 50)[:, None]\n",
    "\n",
    "class PlotCallback(dde.callbacks.Callback):\n",
    "    def __init__(self):\n",
    "        super().__init__()\n",
    "        self.step = 0\n",
    "\n",
    "    def on_epoch_end(self):\n",
    "        if self.step == 0:\n",
    "          plot_and_save(self.step, self.model)\n",
    "        self.step += 1\n",
    "        if self.step % 50 == 0:  # Save plot every 50 steps\n",
    "            plot_and_save(self.step, self.model)\n",
    "\n",
    "# Create the callback\n",
    "plot_callback = PlotCallback()\n",
    "\n",
    "model = dde.Model(data,net)\n",
    "model.compile(\"adam\", lr=0.001,metrics=[\"MSE\"])\n",
    "losshistory, train_state = model.train(iterations=25000,callbacks=[plot_callback])\n",
    "\n",
    "dde.saveplot(losshistory,train_state,issave=False,isplot=True)\n",
    "\n",
    "\n",
    "\n",
    "# Create the animation\n",
    "create_gif('training_outputs', 'training_animation.gif')\n"
   ]
  },
  {
   "cell_type": "code",
   "execution_count": 5,
   "id": "3fc512af-911b-4e11-bb91-2b9bd2ddbf7e",
   "metadata": {},
   "outputs": [
    {
     "data": {
      "image/png": "[encoded data removed]",
      "text/plain": [
       "<Figure size 1000x800 with 1 Axes>"
      ]
     },
     "metadata": {},
     "output_type": "display_data"
    }
   ],
   "source": [
    "# Obtain training and testing points\n",
    "train_x = data.train_x\n",
    "test_x = data.test_x\n",
    "\n",
    "plt.figure(figsize=(10,8))\n",
    "plt.scatter(train_x,np.zeros_like(train_x),c='blue',marker='o',label='Training points',alpha=0.5)\n",
    "plt.scatter(test_x,np.zeros_like(test_x),c='red',marker='x',label='Testing points',alpha=0.5)\n",
    "plt.title('Distribution of Training and Testing Points')\n",
    "plt.xlabel('x')\n",
    "plt.legend()\n",
    "plt.yticks([])\n",
    "plt.axhline(y=0,color='k',linestyle='--',linewidth=0.5)\n",
    "plt.ylim(-0.5,0.5)\n",
    "plt.xlim(0,1)\n",
    "plt.show()"
   ]
  },
  {
   "cell_type": "markdown",
   "id": "793449f9-f099-42cd-a1eb-ffce1b014af5",
   "metadata": {},
   "source": [
    "## Soft-Constraint PINN with two observed points"
   ]
  },
  {
   "cell_type": "code",
   "execution_count": null,
   "id": "37062556-789d-4a37-8f43-e2218889fad6",
   "metadata": {},
   "outputs": [],
   "source": [
    "os.makedirs(\"training_outputs_obs\", exist_ok=True)\n",
    "\n",
    "length = 1\n",
    "T_hot = 100\n",
    "T_cold = 20\n",
    "diff_coeff = 1\n",
    "density = 1\n",
    "u = 10\n",
    "\n",
    "geom = dde.geometry.Interval(0,length)\n",
    "\n",
    "def pde(x,y):\n",
    "  dy_dx = dde.grad.jacobian(y,x)\n",
    "  d2y_dx2 = dde.grad.hessian(y,x)\n",
    "\n",
    "  return density * u * dy_dx - diff_coeff * d2y_dx2\n",
    "\n",
    "\n",
    "def func(x):\n",
    "  return T_hot + (np.exp(density * u * x / diff_coeff)-1) / (np.exp(density * u * length / diff_coeff)-1) * (T_cold - T_hot)\n",
    "\n",
    "data_x = np.array([0,1]).reshape((2,1))\n",
    "data_y = func(data_x)\n",
    "\n",
    "def boundary_left(x,on_boundary):\n",
    "  return on_boundary and np.isclose(x[0],0)\n",
    "def boundary_right(x,on_boundary):\n",
    "  return on_boundary and np.isclose(x[0],1)\n",
    "    \n",
    "bc_left = dde.icbc.DirichletBC(geom, lambda x: T_hot, boundary_left)\n",
    "bc_right = dde.icbc.DirichletBC(geom, lambda x: T_cold, boundary_right)\n",
    "observe = dde.icbc.PointSetBC(data_x,data_y)\n",
    "\n",
    "# What works: uniform distribution\n",
    "data = dde.data.PDE(geom,\n",
    "                    pde,\n",
    "                    [bc_left,bc_right,observe],\n",
    "                    num_domain=100, \n",
    "                    solution=func,\n",
    "                    num_test=100,\n",
    "                    train_distribution='uniform',\n",
    "                    anchors=data_x)\n",
    "\n",
    "layer_size = [1] + [50] * 3 + [1]\n",
    "activation = \"tanh\"\n",
    "initializer = \"Glorot uniform\"\n",
    "net = dde.nn.FNN(layer_size, activation,initializer)\n",
    "\n",
    "def plot_and_save(step, model):\n",
    "    # Predict the solution\n",
    "    y_pred = model.predict(x)\n",
    "    y_true = func(x)\n",
    "\n",
    "    # Create the plot\n",
    "    plt.figure(figsize=(8, 5))\n",
    "    plt.grid(True, which='both', linestyle='--', linewidth=0.5)\n",
    "    plt.gca().set_facecolor('#f0f0f0')\n",
    "    plt.plot(x, y_true,'-x',color='#2F195F',alpha=0.7,markersize=5, label='Analytical Solution')\n",
    "    plt.scatter(data_x,data_y,marker='o',s=50,facecolors='none',edgecolors='#A09EBB',label='Data points')\n",
    "    plt.plot(x, y_pred,'--',color='#37FF8B', label='PINN Prediction')\n",
    "    plt.title(f'Solution at step {step}',fontsize=14,fontweight='bold',color='#2F195F')\n",
    "    plt.xlabel('x')\n",
    "    plt.ylabel('Temperature')\n",
    "    plt.legend(loc='lower left',fontsize=12,frameon=True,shadow=True,facecolor='white')\n",
    "\n",
    "    # Save the plot\n",
    "    plt.savefig(f\"training_outputs_obs/step_{step:06d}.png\")\n",
    "    plt.close()\n",
    "\n",
    "# Generate points for prediction\n",
    "x = np.linspace(0, length, 50)[:, None]\n",
    "\n",
    "class PlotCallback(dde.callbacks.Callback):\n",
    "    def __init__(self):\n",
    "        super().__init__()\n",
    "        self.step = 0\n",
    "\n",
    "    def on_epoch_end(self):\n",
    "        if self.step == 0:\n",
    "          plot_and_save(self.step, self.model)\n",
    "        self.step += 1\n",
    "        if self.step % 50 == 0:  # Save plot every 50 steps\n",
    "            plot_and_save(self.step, self.model)\n",
    "\n",
    "# Generate points for prediction\n",
    "x = np.linspace(0, length, 50)[:, None]\n",
    "\n",
    "# Create the callback\n",
    "plot_callback = PlotCallback()\n",
    "\n",
    "model = dde.Model(data,net)\n",
    "model.compile(\"adam\", lr=0.001,metrics=[\"MSE\"])\n",
    "losshistory, train_state = model.train(iterations=5000,callbacks=[plot_callback])\n",
    "\n",
    "dde.saveplot(losshistory,train_state,issave=False,isplot=True)\n",
    "\n",
    "def create_gif(image_folder, gif_name):\n",
    "    images = []\n",
    "    for file_name in sorted(os.listdir(image_folder)):\n",
    "        if file_name.endswith('.png'):\n",
    "            file_path = os.path.join(image_folder, file_name)\n",
    "            images.append(imageio.imread(file_path))\n",
    "    imageio.mimsave(gif_name, images, fps=20)\n",
    "\n",
    "# Create the animation\n",
    "create_gif('training_outputs_obs', 'training_animation_obs.gif')"
   ]
  }
 ],
 "metadata": {
  "kernelspec": {
   "display_name": "Python3.9 (FYP)",
   "language": "python",
   "name": "fyp"
  },
  "language_info": {
   "codemirror_mode": {
    "name": "ipython",
    "version": 3
   },
   "file_extension": ".py",
   "mimetype": "text/x-python",
   "name": "python",
   "nbconvert_exporter": "python",
   "pygments_lexer": "ipython3",
   "version": "3.9.15"
  }
 },
 "nbformat": 4,
 "nbformat_minor": 5
}
